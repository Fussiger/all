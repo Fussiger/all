{
  "nbformat": 4,
  "nbformat_minor": 0,
  "metadata": {
    "colab": {
      "provenance": [],
      "authorship_tag": "ABX9TyOKKKLALW0Ap2/Qaz7gszwb",
      "include_colab_link": true
    },
    "kernelspec": {
      "name": "python3",
      "display_name": "Python 3"
    },
    "language_info": {
      "name": "python"
    }
  },
  "cells": [
    {
      "cell_type": "markdown",
      "metadata": {
        "id": "view-in-github",
        "colab_type": "text"
      },
      "source": [
        "<a href=\"https://colab.research.google.com/github/Fussiger/all/blob/main/1.ipynb\" target=\"_parent\"><img src=\"https://colab.research.google.com/assets/colab-badge.svg\" alt=\"Open In Colab\"/></a>"
      ]
    },
    {
      "cell_type": "code",
      "execution_count": 21,
      "metadata": {
        "colab": {
          "base_uri": "https://localhost:8080/"
        },
        "id": "eukWdEA1NnF1",
        "outputId": "e2487afe-0ab4-49cc-fd55-770fea135388"
      },
      "outputs": [
        {
          "output_type": "stream",
          "name": "stdout",
          "text": [
            "Qual a sua altura? 1.53\n",
            "Qual o seu peso? 64\n",
            "Sobrepeso\n"
          ]
        }
      ],
      "source": [
        "Altura = float(input('Qual a sua altura? ') )\n",
        "Peso = float(input('Qual o seu peso? '))\n",
        "\n",
        "IMC = Peso / (Altura**2)\n",
        "\n",
        "if IMC <=18.5:\n",
        "   print ('Peso abaixo')\n",
        "elif 18.5 < IMC <= 24.99:\n",
        "   print('Normal')\n",
        "elif 25 <= IMC <= 29.99:\n",
        "   print('Sobrepeso')\n",
        "else:\n",
        "   print('Obeso')"
      ]
    },
    {
      "cell_type": "markdown",
      "source": [],
      "metadata": {
        "id": "WrnGnG0eRkiZ"
      }
    }
  ]
}